{
 "cells": [
  {
   "cell_type": "markdown",
   "metadata": {},
   "source": [
    "# Arbres binaires avec des tuples"
   ]
  },
  {
   "cell_type": "markdown",
   "metadata": {},
   "source": [
    "## Représentation avec un seul tuple"
   ]
  },
  {
   "attachments": {
    "arbre.PNG": {
     "image/png": "[encoded data removed]"
    }
   },
   "cell_type": "markdown",
   "metadata": {},
   "source": [
    "Considérons l'arbre binaire suivant:\n",
    "\n",
    "![arbre.PNG](attachment:arbre.PNG)\n",
    "\n",
    "\n",
    "On représenta l'arbre avec un tuple :\n",
    "\n",
    "arbre = ('1', '2', '3', '4', '5', None, '6', None, None, '7', '8', None, None, '9', None, None, None, None, None, None, None, None, None, None, None, None, None, None, None, None, None)"
   ]
  },
  {
   "cell_type": "markdown",
   "metadata": {},
   "source": [
    "Chaque noeud se repère par son indice $n$ dans la liste,\n",
    "* son fils gauche se trouvant alors à l’indice : $2n+ 1$ \n",
    "* son fils droit à l’indice : $2n+ 2$.\n",
    "\n",
    "&#x2784; est à l’indice 4 son fils gauche se trouve alors à l’indice 9 et son fils droit à l’indice 10.\n",
    "\n",
    "### À faire 1:\n",
    "\n",
    "***Écrire une fonction qui retourne vrai si l'arbre est vide***"
   ]
  },
  {
   "cell_type": "code",
   "execution_count": 64,
   "metadata": {},
   "outputs": [],
   "source": [
    "'''Jupyter fait par Louis-Alexandre Laguet et Alexis Tourrenc--Lecerf ING 1 GIA'''\n",
    "\n",
    "def isEmpty(Arbre):\n",
    "    if (len(Arbre) == 0):\n",
    "        return True\n",
    "    return False\n"
   ]
  },
  {
   "cell_type": "markdown",
   "metadata": {},
   "source": [
    "***Compléter la fonction qui renvoie les enfants d’un noeud.***"
   ]
  },
  {
   "cell_type": "code",
   "execution_count": 65,
   "metadata": {},
   "outputs": [],
   "source": [
    "#ici n est l'indice du noeud parent\n",
    "\n",
    "def printSons(Arbre, n):\n",
    "    if (2*n+1 < len(Arbre)):\n",
    "        print(\"Le fils gauche de ce noeud vaut %d. \\n\", Arbre[2*n+1])\n",
    "    if (2*n+2 < len(Arbre)):\n",
    "        print(\"Le fils droit de ce noeud vaut %d. \\n\", Arbre[2*n+2])\n"
   ]
  },
  {
   "cell_type": "markdown",
   "metadata": {},
   "source": [
    "***Écrire deux fonctions qui renvoient le fils gauche d’un noeud et son homologue le fils droit s’ils existent.***\n"
   ]
  },
  {
   "cell_type": "code",
   "execution_count": 66,
   "metadata": {},
   "outputs": [],
   "source": [
    "#ici n est l'indice du noeud parent\n",
    "\n",
    "def getLeftSon(Arbre, n): \n",
    "    if (2*n+1 < len(Arbre)):\n",
    "        return Arbre[2*n+1]\n",
    "    return -1\n",
    "\n",
    "\n",
    "def getRightSon(Arbre, n): \n",
    "    if (2*n+2 < len(Arbre)):\n",
    "        return Arbre[2*n+2]\n",
    "    return -1"
   ]
  },
  {
   "cell_type": "markdown",
   "metadata": {},
   "source": [
    "***Écrire une fonction qui retourne vrai si le noeud est la racine de l’arbre.***"
   ]
  },
  {
   "cell_type": "code",
   "execution_count": 67,
   "metadata": {},
   "outputs": [],
   "source": [
    "#ici n est l'indice du noeud dont on se demande s'il est racine\n",
    "\n",
    "def isRoot(Arbre, n): \n",
    "    if(n==0):\n",
    "        return True\n",
    "    return False\n"
   ]
  },
  {
   "cell_type": "markdown",
   "metadata": {},
   "source": [
    "***Écrire une fonction qui retourne vrai si le noeud est une feuille.***"
   ]
  },
  {
   "cell_type": "code",
   "execution_count": 68,
   "metadata": {},
   "outputs": [],
   "source": [
    "def isLeaf(Arbre, n): \n",
    "    if( getLeftSon(Arbre,n)==-1 and getRightSon(Arbre,n)==-1 ):\n",
    "        return 1\n",
    "    return 0\n"
   ]
  },
  {
   "cell_type": "markdown",
   "metadata": {},
   "source": [
    "## Représentation avec un tuple de tuples\n",
    "\n",
    "\n",
    "* Chaque noeud est un tuple (valeur, fg , fd )\n",
    "\n",
    "* fg et fd sont eux-mêmes des tuples éventuellement vide s'il néxiste pas\n",
    "\n",
    "Ci-dessous voici la représentation de notre arbre :"
   ]
  },
  {
   "cell_type": "code",
   "execution_count": 69,
   "metadata": {},
   "outputs": [
    {
     "name": "stdout",
     "output_type": "stream",
     "text": [
      "('1', ('2', ('4', (), ()), ('5', ('7', (), ()), ('8', (), ()))), ('3', (), ('6', ('9', (), ()), ())))\n"
     ]
    }
   ],
   "source": [
    "sept=(\"7\",(),())\n",
    "huit=(\"8\",(),())\n",
    "neuf=(\"9\",(),())\n",
    "six=(\"6\",neuf,())\n",
    "cinq=(\"5\",sept,huit)\n",
    "quatre=(\"4\",(),())\n",
    "trois=(\"3\",(),six)\n",
    "deux=(\"2\",quatre,cinq)\n",
    "arbre=(\"1\",deux,trois)\n",
    "print(arbre)"
   ]
  },
  {
   "cell_type": "markdown",
   "metadata": {},
   "source": [
    "Dans cette situation on accède directement aux noeuds, ce qui permet d'écrire la fonction suivante:"
   ]
  },
  {
   "cell_type": "code",
   "execution_count": 70,
   "metadata": {},
   "outputs": [
    {
     "name": "stdout",
     "output_type": "stream",
     "text": [
      "False\n",
      "True\n"
     ]
    }
   ],
   "source": [
    "def est_feuille(noeud):\n",
    "    return noeud[1] == () and noeud[2] == ()\n",
    "\n",
    "print(est_feuille(trois))\n",
    "print(est_feuille(sept))"
   ]
  },
  {
   "cell_type": "markdown",
   "metadata": {},
   "source": [
    "## La hauteur de l'arbre:\n",
    "\n",
    "### À faire 2:\n",
    "\n",
    "l'algorithme récursif du calcul de la hauteur de l'arbre est :\n",
    "\n",
    "<ul>\n",
    "    <li> Si l'arbre et vide</li>\n",
    "    <ul><li> renvoyer -1</li></ul>\n",
    "    <li> Sinon</li>\n",
    "    <ul>\n",
    "        <li> h1 = 1 + hauteur(fils_gauche)</li>\n",
    "        <li> h2 = 1 + hauteur(fils_droit)</li>\n",
    "        <li> renvoyer max(h1,h2)</li></ul>\n",
    "    </ul>\n",
    "\n",
    "***Écrire la fonction hauteur***"
   ]
  },
  {
   "cell_type": "code",
   "execution_count": 71,
   "metadata": {},
   "outputs": [],
   "source": [
    "def max(a,b):\n",
    "    if (a<b):\n",
    "        return b\n",
    "    return a\n",
    "\n",
    "\n",
    "def hauteur(noeud):\n",
    "    if (isEmpty(noeud)):\n",
    "        return -1\n",
    "    if (isLeaf(noeud,0)):\n",
    "        return 0\n",
    "    return 1 + max( hauteur(noeud[1]) , hauteur(noeud[2]) )\n"
   ]
  },
  {
   "cell_type": "markdown",
   "metadata": {},
   "source": [
    "Ci-dessous un programme qui permet d'afficher l'arbre:\n",
    "\n",
    "<i> nécessite d'avoir réussi la fonction hauteur </i>"
   ]
  },
  {
   "cell_type": "code",
   "execution_count": 72,
   "metadata": {},
   "outputs": [],
   "source": [
    "import networkx as nx\n",
    "import matplotlib.pyplot as plt\n",
    "\n",
    "def repr_graph(arbre, size=(8,8), null_node=False):\n",
    "    \"\"\"\n",
    "    size : tuple de 2 entiers. Si size est int -> (size, size)\n",
    "    null_node : si True, trace les liaisons vers les sous-arbres vides\n",
    "    \"\"\"\n",
    "    def parkour(arbre, noeuds, branches, labels, positions, profondeur, pos_courante, pos_parent, null_node):\n",
    "        if arbre !=():\n",
    "            noeuds[0].append(pos_courante)\n",
    "            positions[pos_courante] = (pos_courante, profondeur)\n",
    "            profondeur -= 1\n",
    "            labels[pos_courante] = str(arbre[0])\n",
    "            branches[0].append((pos_courante, pos_parent))\n",
    "            pos_gauche = pos_courante - 2**profondeur\n",
    "            parkour(arbre[1], noeuds, branches, labels, positions, profondeur, pos_gauche, pos_courante, null_node)\n",
    "            pos_droit = pos_courante + 2**profondeur\n",
    "            parkour(arbre[2], noeuds, branches, labels, positions, profondeur, pos_droit, pos_courante, null_node)\n",
    "        elif null_node:\n",
    "            noeuds[1].append(pos_courante)\n",
    "            positions[pos_courante] = (pos_courante, profondeur)\n",
    "            branches[1].append((pos_courante, pos_parent))\n",
    "    \n",
    "    \n",
    "    if arbre ==():\n",
    "        return\n",
    "    \n",
    "    branches = [[]]\n",
    "    profondeur = hauteur(arbre)\n",
    "    pos_courante = 2**profondeur\n",
    "    noeuds = [[pos_courante]]\n",
    "    positions = {pos_courante: (pos_courante, profondeur)} \n",
    "    labels = {pos_courante: str(arbre[0])}\n",
    "    \n",
    "    if null_node:\n",
    "        branches.append([])\n",
    "        noeuds.append([])\n",
    "        \n",
    "    profondeur -= 1\n",
    "    parkour(arbre[1], noeuds, branches, labels, positions, profondeur, pos_courante - 2**profondeur, pos_courante, null_node)\n",
    "    parkour(arbre[2], noeuds, branches, labels, positions, profondeur, pos_courante + 2**profondeur, pos_courante, null_node) \n",
    "\n",
    "    mon_arbre = nx.Graph()\n",
    "    \n",
    "    if type(size) == int:\n",
    "        size = (size, size)    \n",
    "    plt.figure(figsize=size)\n",
    "    \n",
    "    nx.draw_networkx_nodes(mon_arbre, positions, nodelist=noeuds[0], node_color=\"white\", node_size=550, edgecolors=\"blue\")\n",
    "    nx.draw_networkx_edges(mon_arbre, positions, edgelist=branches[0], edge_color=\"black\", width=2)\n",
    "    nx.draw_networkx_labels(mon_arbre, positions, labels)\n",
    "\n",
    "    if null_node:\n",
    "        nx.draw_networkx_nodes(mon_arbre, positions, nodelist=noeuds[1], node_color=\"white\", node_size=50, edgecolors=\"grey\")\n",
    "        nx.draw_networkx_edges(mon_arbre, positions, edgelist=branches[1], edge_color=\"grey\", width=1)\n",
    "\n",
    "    ax = plt.gca()\n",
    "    ax.margins(0.1)\n",
    "    plt.axis(\"off\")\n",
    "    plt.show()\n",
    "    plt.close()"
   ]
  },
  {
   "cell_type": "code",
   "execution_count": 73,
   "metadata": {},
   "outputs": [
    {
     "data": {
      "image/png": "[encoded data removed]",
      "text/plain": [
       "<Figure size 400x300 with 1 Axes>"
      ]
     },
     "metadata": {},
     "output_type": "display_data"
    }
   ],
   "source": [
    "repr_graph(arbre,(4,3),False)"
   ]
  },
  {
   "cell_type": "markdown",
   "metadata": {},
   "source": [
    "## Les parcours\n",
    "\n",
    "### À faire 3:\n",
    "\n",
    "En vous inspirant de ce qui a été vu en cours, écrire les fonctions qui réalisent les parcours en largeur et en profondeur (prefixe, infixe et postfixe) d'un arbre avec cette représentation."
   ]
  },
  {
   "cell_type": "code",
   "execution_count": 74,
   "metadata": {},
   "outputs": [],
   "source": [
    "def traiter(e):\n",
    "    print(e[0])\n",
    "\n",
    "\n",
    "# Parcours Largeur\n",
    "def parcoursLargeur(arbre):\n",
    "    l=[]\n",
    "    l2=[]\n",
    "    l.append(arbre)\n",
    "    while len(l)>0:\n",
    "        for i in l:\n",
    "            if i==():\n",
    "                continue\n",
    "            print(i[0])\n",
    "            l2+=i[1:]\n",
    "        l=l2\n",
    "        l2=[]\n"
   ]
  },
  {
   "cell_type": "code",
   "execution_count": 75,
   "metadata": {},
   "outputs": [],
   "source": [
    "# Parcours Prefixe\n",
    "\n",
    "def parcoursPrefixe(Arbre):\n",
    "    if not(isEmpty(Arbre)) :\n",
    "        traiter(Arbre[0])\n",
    "        parcoursPrefixe(Arbre[1])\n",
    "        parcoursPrefixe(Arbre[2])"
   ]
  },
  {
   "cell_type": "code",
   "execution_count": 76,
   "metadata": {},
   "outputs": [],
   "source": [
    "# Parcours Infixe\n",
    "\n",
    "def parcoursInfixe(Arbre):\n",
    "    if not(isEmpty(Arbre)) :\n",
    "        parcoursPrefixe(Arbre[1])\n",
    "        traiter(Arbre[0])\n",
    "        parcoursPrefixe(Arbre[2])\n",
    "        "
   ]
  },
  {
   "cell_type": "code",
   "execution_count": 77,
   "metadata": {},
   "outputs": [],
   "source": [
    "# Parcours Postfixe\n",
    "\n",
    "def parcoursPostfixe(Arbre):\n",
    "    if not(isEmpty(Arbre)) :\n",
    "        parcoursPrefixe(Arbre[1])\n",
    "        parcoursPrefixe(Arbre[2])\n",
    "        traiter(Arbre[0])\n",
    "        "
   ]
  },
  {
   "cell_type": "markdown",
   "metadata": {},
   "source": [
    "## Compléments\n",
    "\n",
    "### À faire 4:\n",
    "\n",
    "Écrire des fonctions qui :\n",
    "\n",
    "* renvoie la taille de l'arbre\n",
    "* renvoie la somme des valeurs des noeuds\n",
    "* renvoie le noeud de plus garnde valeur"
   ]
  },
  {
   "cell_type": "code",
   "execution_count": 86,
   "metadata": {},
   "outputs": [
    {
     "data": {
      "text/plain": [
       "9"
      ]
     },
     "execution_count": 86,
     "metadata": {},
     "output_type": "execute_result"
    }
   ],
   "source": [
    "def taille(Arbre):\n",
    "    if isEmpty(Arbre) or isLeaf(Arbre, 0):\n",
    "        return 0\n",
    "    return 1 + taille(Arbre[1]) + taille (Arbre[2])"
   ]
  },
  {
   "cell_type": "code",
   "execution_count": 90,
   "metadata": {},
   "outputs": [
    {
     "data": {
      "text/plain": [
       "45"
      ]
     },
     "execution_count": 90,
     "metadata": {},
     "output_type": "execute_result"
    }
   ],
   "source": [
    "def somme(Arbre):\n",
    "    if isEmpty(Arbre):\n",
    "        return 0\n",
    "    elif isLeaf(Arbre, 0):\n",
    "        return Arbre[0]\n",
    "    return int(Arbre[0]) + somme(Arbre[1]) + somme(Arbre[2])\n",
    "somme(arbre)"
   ]
  },
  {
   "cell_type": "code",
   "execution_count": 93,
   "metadata": {},
   "outputs": [
    {
     "data": {
      "text/plain": [
       "9"
      ]
     },
     "execution_count": 93,
     "metadata": {},
     "output_type": "execute_result"
    }
   ],
   "source": [
    "def maxVal(Arbre):\n",
    "    if isEmpty(Arbre):\n",
    "        return 0\n",
    "    return max(int(Arbre[0]), max(maxVal(Arbre[1]), maxVal(Arbre[2])))\n",
    "maxVal(arbre)"
   ]
  }
 ],
 "metadata": {
  "kernelspec": {
   "display_name": "Python 3 (ipykernel)",
   "language": "python",
   "name": "python3"
  },
  "language_info": {
   "codemirror_mode": {
    "name": "ipython",
    "version": 3
   },
   "file_extension": ".py",
   "mimetype": "text/x-python",
   "name": "python",
   "nbconvert_exporter": "python",
   "pygments_lexer": "ipython3",
   "version": "3.10.9"
  }
 },
 "nbformat": 4,
 "nbformat_minor": 2
}
